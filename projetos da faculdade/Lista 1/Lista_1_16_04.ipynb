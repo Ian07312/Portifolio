{
  "cells": [
    {
      "cell_type": "code",
      "execution_count": null,
      "metadata": {
        "id": "9MYUUJi0Vj7C"
      },
      "outputs": [],
      "source": []
    },
    {
      "cell_type": "markdown",
      "metadata": {
        "id": "LM-BU28PWg9K"
      },
      "source": [
        "### Exercícios (utilize apenas conteúdos vistos em aula)\n",
        "\n",
        "1. Faça um programa mostre o seu primeiro nome na tela.\n",
        "\n",
        "\n",
        "2. Faça um programa que pede o primeiro nome do usuário e um sobrenome e mostra os dois nomes digitados na tela.\n",
        "\n",
        "3. Faça um programa que mostra um X bem grande na tela, utilizando o print (um ou mais vezes). Obs.: esse X deverá ter, pelo menos altura de 7 caracteres. Desafio: fazer essa tarefa em um único print.\n",
        "\n",
        "4. Faça um programa que pede o dia e mês de aniversário e diz quantos dias faltam para o aniversário, quantos dias se passaram do aniversário ou se hoje é o aniversário do usuário. (obs.: não utilize bibliotecas)\n",
        "\n",
        "5. Sua tarefa é criar um programa em Python que pede o preço original de um produto e dá 20% de desconto.\n",
        "\n",
        "    Você deve mostrar uma tabela contendo:    \n",
        "a. Preço original do produto.  \n",
        "b. Valor do desconto em R\\$ (tipo 'Você ganho R$ xx,xx de desconto').  \n",
        "c. Valor do produto com o desconto.\n",
        "\n",
        "6. Generalize o problema anterior, perguntando a porcentagem de desconto e mostrando os mesmos dados acima.\n",
        "\n",
        "7. Faça um programa que peça 3 valores e calcula sua média aritmética simples, mostrando esse resultado na tela.\n",
        "\n",
        "8. Faça um programa que peça 4 valores positivos e calcula:  \n",
        "    a. A média aritmética simples.  \n",
        "    b. A média geométrica.  \n",
        "    c. A média harmônica\n",
        "\n",
        "9. Faça um programa que peça 4 números reais e calcula:  \n",
        "    a. A média aritmética simples.  \n",
        "    b. A variância desses dados.  \n",
        "    c. O desvio padrão desses dados.\n",
        "\n",
        "\n",
        "10. Faça um programa que, dados 3 números inteiros, mostre na tela o maior deles.\n",
        "\n",
        "11. Faça um programa que, dados 3 números inteiros, mostre na tela esses números em ordem crescente.\n",
        "\n",
        "\n",
        "\n",
        "12. Faça um programa que, dados 3 strings, mostra essas strings em ordem alfabética.\n",
        "\n",
        "\n",
        "13. Faça um programa que peça a informação se o usuário é homem ou mulher, o peso, a altura e a idade e mostre na tela o TMB em calorias.   \n",
        "A Taxa Metabólica Basal (TMB) é a quantidade mínima de energia que o corpo precisa para manter as funções vitais, como respiração, circulação e temperatura corporal, em repouso. A TMB representa cerca de 60% a 70% do gasto energético total diário de uma pessoa e varia de acordo com o sexo, a idade, o peso e a altura.\n",
        "\n",
        "    Para calcular a TMB manualmente, você deve usar as seguintes fórmulas da equação de Harris-Benedict:\n",
        "\n",
        "    Para homens: TMB = 66,47 + (13,75 x peso em kg) + (5,003 x altura em cm) - (6,755 x idade em anos)\n",
        "    \n",
        "    Para mulheres: TMB = 655,09 + (9,563 x peso em kg) + (1,85 x altura em cm) - (4,676 x idade em anos)  \n",
        "     \n",
        "\n",
        "14. Faça um programa que peça um número inteiro para o usuário e mostra a tabuada desse número.\n",
        "\n",
        "    "
      ]
    },
    {
      "cell_type": "code",
      "execution_count": null,
      "metadata": {
        "colab": {
          "base_uri": "https://localhost:8080/"
        },
        "id": "FwULjfRxGXFx",
        "outputId": "9df1b002-128a-4667-c7c6-8d1b047ffc4d"
      },
      "outputs": [
        {
          "name": "stdout",
          "output_type": "stream",
          "text": [
            "Ian\n"
          ]
        }
      ],
      "source": [
        "#1\n",
        "print(\"Ian\")"
      ]
    },
    {
      "cell_type": "code",
      "execution_count": null,
      "metadata": {
        "colab": {
          "base_uri": "https://localhost:8080/"
        },
        "id": "lTcVCzEzk83g",
        "outputId": "40766b3a-943f-415f-f8ae-82fb6f7ad2d3"
      },
      "outputs": [
        {
          "name": "stdout",
          "output_type": "stream",
          "text": [
            "Nome e Sobrenome: Ian Clauhs\n"
          ]
        }
      ],
      "source": [
        "#2\n",
        "nome = input(\"Digite seu primeiro nome: \")\n",
        "\n",
        "sobrenome = input(\"Digite seu sobrenome: \")\n",
        "print(\"Nome e Sobrenome:\" ,nome, sobrenome)"
      ]
    },
    {
      "cell_type": "code",
      "execution_count": null,
      "metadata": {
        "colab": {
          "base_uri": "https://localhost:8080/"
        },
        "id": "u9xg3j8Jmnil",
        "outputId": "e63293b7-6eb2-4052-f7f7-b824b0c2582a"
      },
      "outputs": [
        {
          "name": "stdout",
          "output_type": "stream",
          "text": [
            "X     X\n",
            " X   X \n",
            "  X X  \n",
            "   X   \n",
            "  X X  \n",
            " X   X \n",
            "X     X\n"
          ]
        }
      ],
      "source": [
        "#3\n",
        "print(\"X     X\")\n",
        "print(\" X   X \")\n",
        "print(\"  X X  \")\n",
        "print(\"   X   \")\n",
        "print(\"  X X  \")\n",
        "print(\" X   X \")\n",
        "print(\"X     X\")\n"
      ]
    },
    {
      "cell_type": "code",
      "execution_count": null,
      "metadata": {
        "colab": {
          "base_uri": "https://localhost:8080/"
        },
        "id": "BYJzMI_WnkkM",
        "outputId": "ba3f32fe-a880-435d-ee73-3ae5c7394af0"
      },
      "outputs": [
        {
          "output_type": "stream",
          "name": "stdout",
          "text": [
            "Digite o dia do seu aniversário: 28\n",
            "Digite o mês do seu aniversário: 4\n",
            "Faltam 26 dias para o seu aniversário\n"
          ]
        }
      ],
      "source": [
        "#4 Em relação ao dia 2 de abril\n",
        "dia = int(input(\"Digite o dia do seu aniversário: \"))\n",
        "mes = int(input(\"Digite o mês do seu aniversário: \"))\n",
        "m = 'm'\n",
        "s = 's'\n",
        "if mes == 1:\n",
        "    dias_faltantes = 92 - dia\n",
        "    print(f\"Passaram {dias_faltantes} dias para o seu aniversário\")\n",
        "if mes == 2:\n",
        "\n",
        "    dias_faltantes = 61 - dia\n",
        "    print(f\"Passaram {dias_faltantes} dias do o seu aniversário\")\n",
        "if mes == 3:\n",
        "    dias_faltantes = 33 - dia\n",
        "    print(f\"Passaram {dias_faltantes} dias do o seu aniversário\")\n",
        "if mes == 4:\n",
        "    diff_dias = dia - 2\n",
        "    if diff_dias == 1:\n",
        "        m = ''\n",
        "        s =''\n",
        "\n",
        "    if diff_dias == 0:\n",
        "        print(\"Feliz Aniversário!\")\n",
        "    elif diff_dias > 0:\n",
        "        print(f\"Faltam {diff_dias} dia{s} para o seu aniversário\")\n",
        "    else:\n",
        "        print(f\"Passaram {-1 * diff_dias} dia{s} do seu aniversário\")\n",
        "elif mes == 5:\n",
        "        dias_faltantes = 28 + dia\n",
        "        print(f\"Faltam {dias_faltantes} dia{s} para seu aniversário\")\n",
        "elif mes == 6:\n",
        "        dias_faltantes = 59 + dia # 28(Abril) + 31(Maio) = 59\n",
        "        print(f\"Faltam {dias_faltantes} dia{s} para seu aniversário\")\n",
        "elif mes == 7:\n",
        "        dias_faltantes = 89 + dia\n",
        "        print(f\"Faltam {dias_faltantes} dia{s} para seu aniversário\")\n",
        "elif mes == 8:\n",
        "        dias_faltantes = 120 + dia\n",
        "        print(f\"Faltam {dias_faltantes} dia{s} para seu aniversário\")\n",
        "elif mes == 9:\n",
        "        dias_faltantes = 151 + dia\n",
        "        print(f\"Faltam {dias_faltantes} dia{s} para seu aniversário\")\n",
        "elif mes == 10:\n",
        "        dias_faltantes = 181 + dia\n",
        "        print(f\"Faltam {dias_faltantes} dia{s} para seu aniversário\")\n",
        "elif mes == 11:\n",
        "        dias_faltantes = 212 + dia\n",
        "        print(f\"Faltam {dias_faltantes} dia{s} para seu aniversário\")\n",
        "elif mes == 12:\n",
        "        print(f\"Faltam {dias_faltantes} dia{s} para seu aniversário\")\n",
        "        dias_faltantes = 242 + dia\n",
        "\n",
        "\n",
        "\n"
      ]
    },
    {
      "cell_type": "code",
      "execution_count": null,
      "metadata": {
        "id": "iA-UFZylnKjK",
        "outputId": "5a4d72b7-b11f-4bcb-d4c2-68ae473844df"
      },
      "outputs": [
        {
          "name": "stdout",
          "output_type": "stream",
          "text": [
            "Preço original: R$ 19.99\n",
            "Com desconto de 20%: R$ 4.00\n",
            "Preço do produto com desconto: R$ 15.99\n"
          ]
        }
      ],
      "source": [
        "#5\n",
        "# Preço do produto\n",
        "preco_original = float(input(\"Digite o preço original do produto : R$ \"))\n",
        "# Desconto de 20%\n",
        "desconto = preco_original * 0.20\n",
        "# Preço no final já com o desconto\n",
        "preco_desconto = preco_original - desconto\n",
        "\n",
        "print(f\"Preço original: R$ {preco_original:.2f}\")\n",
        "print(f\"Com desconto de 20%: R$ {desconto:.2f}\")\n",
        "print(f\"Preço do produto com desconto: R$ {preco_desconto:.2f}\")"
      ]
    },
    {
      "cell_type": "code",
      "execution_count": null,
      "metadata": {
        "id": "XqVY66RnF89M",
        "outputId": "a273e8a1-f294-421e-e54e-3d7d354fea4b"
      },
      "outputs": [
        {
          "name": "stdout",
          "output_type": "stream",
          "text": [
            "Você ganhou R$ 7.5 de desconto\n",
            "Valor do produto com desconto: R$ 42.5\n"
          ]
        }
      ],
      "source": [
        "# 6\n",
        "preco_original = float(input(\"Digite o valor do produto: R$ \"))\n",
        "valor_desconto = float(input(\"Qual o valor do desconto?: \"))\n",
        "valor_resultante = valor_desconto / 100\n",
        "desconto = (valor_resultante * preco_original)\n",
        "preco_desconto = preco_original - desconto\n",
        "print(\"Você ganhou R$\", desconto,\"de desconto\",)\n",
        "print(\"Valor do produto com desconto: R$\", preco_desconto)"
      ]
    },
    {
      "cell_type": "code",
      "execution_count": null,
      "metadata": {
        "id": "1kSQcJTgF89M",
        "outputId": "747221d1-911c-478a-eb4d-fcc73cc566dc"
      },
      "outputs": [
        {
          "name": "stdout",
          "output_type": "stream",
          "text": [
            "O resultado é: 57.0\n"
          ]
        }
      ],
      "source": [
        "# 7\n",
        "primeiro_numero = int(input(\"Digite o primeiro numero\"))\n",
        "segundo_numero =int(input(\"Digite o segundo numero\"))\n",
        "terceiro_numero = int(input(\"Digite o terceiro numero\"))\n",
        "\n",
        "conta = primeiro_numero + segundo_numero + terceiro_numero\n",
        "resultado = conta / 3\n",
        "print(\"O resultado é:\", resultado)"
      ]
    },
    {
      "cell_type": "code",
      "execution_count": null,
      "metadata": {
        "id": "fbojTN4QF89M",
        "outputId": "df063d16-70c8-4183-d5e5-994b508fba7c"
      },
      "outputs": [
        {
          "name": "stdout",
          "output_type": "stream",
          "text": [
            "O resultado é:  2.5\n",
            "O resultado é:  2.213363839400643\n",
            "1.9200000000000004\n"
          ]
        }
      ],
      "source": [
        "# 8\n",
        "primeiro_numero = int(input(\"Digite o primeiro numero\"))\n",
        "segundo_numero =int(input(\"Digite o segundo numero\"))\n",
        "terceiro_numero = int(input(\"Digite o terceiro numero\"))\n",
        "quarto_numero = int(input(\"Digite o quarto numero\"))\n",
        "\n",
        "# média simples\n",
        "conta = primeiro_numero + segundo_numero + terceiro_numero + quarto_numero\n",
        "resultado = conta / 4\n",
        "print (\"O resultado é: \", resultado)\n",
        "\n",
        "# média geométrica\n",
        "n = 4\n",
        "conta2 = primeiro_numero * segundo_numero * terceiro_numero * quarto_numero\n",
        "raiz = conta2 ** (1/n)\n",
        "print(\"O resultado é: \", raiz)\n",
        "\n",
        "# média harmônica\n",
        "conta3 = (1/primeiro_numero) + (1/segundo_numero) + (1/terceiro_numero) + (1/quarto_numero)\n",
        "divisão = n / conta3\n",
        "print(divisão)\n"
      ]
    },
    {
      "cell_type": "code",
      "execution_count": null,
      "metadata": {
        "id": "zPQUHtQuF89N",
        "outputId": "c4090cac-ccc3-4bef-ba17-4ad7434e2a53"
      },
      "outputs": [
        {
          "name": "stdout",
          "output_type": "stream",
          "text": [
            "O resultado é:  2.5\n",
            "1.25\n"
          ]
        },
        {
          "data": {
            "text/plain": [
              "1.118033988749895"
            ]
          },
          "execution_count": 3,
          "metadata": {},
          "output_type": "execute_result"
        }
      ],
      "source": [
        "#9\n",
        "primeiro_numero = float(input(\"Digite o primeiro numero\"))\n",
        "segundo_numero =float(input(\"Digite o segundo numero\"))\n",
        "terceiro_numero = float(input(\"Digite o terceiro numero\"))\n",
        "quarto_numero = float(input(\"Digite o quarto numero\"))\n",
        "\n",
        "# média aritimética\n",
        "conta = primeiro_numero + segundo_numero + terceiro_numero + quarto_numero\n",
        "resultado = conta / 4\n",
        "print (\"O resultado é: \", resultado)\n",
        "\n",
        "# variância\n",
        "\n",
        "variancia = ((primeiro_numero - resultado)**2 + (segundo_numero - resultado)**2 + (terceiro_numero - resultado)**2 + (quarto_numero - resultado)**2) / 4\n",
        "print(variancia)\n",
        "\n",
        "# desvio padrão\n",
        "variancia ** 0.5\n",
        "\n",
        "\n",
        "\n"
      ]
    },
    {
      "cell_type": "code",
      "execution_count": null,
      "metadata": {
        "id": "HD-hZZxwF89N",
        "outputId": "b6442131-2767-48ff-cf00-9b457ebaeab1"
      },
      "outputs": [
        {
          "name": "stdout",
          "output_type": "stream",
          "text": [
            "O maior número é: 10\n"
          ]
        }
      ],
      "source": [
        "#10\n",
        "n1 = 0\n",
        "n2 = 5\n",
        "n3 = 10\n",
        "\n",
        "maior = n1\n",
        "if n2 > maior:\n",
        "    maior = n2\n",
        "if n3 > maior:\n",
        "    maior = n3\n",
        "\n",
        "print(f\"O maior número é: {maior}\")\n"
      ]
    },
    {
      "cell_type": "code",
      "execution_count": null,
      "metadata": {
        "id": "9YQHBwBAF89N",
        "outputId": "344fd0fc-f966-4529-c9d0-ab01fee125c5",
        "colab": {
          "base_uri": "https://localhost:8080/"
        }
      },
      "outputs": [
        {
          "output_type": "stream",
          "name": "stdout",
          "text": [
            "Digite o primeiro número2\n",
            "Digite o segundo número3\n",
            "Digite o terceiro número-2\n",
            "Números em ordem crescente:\n",
            "-2 2 3\n"
          ]
        }
      ],
      "source": [
        "#11\n",
        "nmr1 = int(input(\"Digite o primeiro número\"))\n",
        "nmr2 = int(input(\"Digite o segundo número\"))\n",
        "nmr3 = int(input(\"Digite o terceiro número\"))\n",
        "\n",
        "if nmr1 > nmr2:\n",
        "    nmr1, nmr2 = nmr2, nmr1\n",
        "if nmr1 > nmr3:\n",
        "    nmr1, nmr3 = nmr3, nmr1\n",
        "if nmr2 > nmr3:\n",
        "    nmr2, nmr3 = nmr3, nmr2\n",
        "\n",
        "print(\"Números em ordem crescente:\")\n",
        "print(nmr1, nmr2, nmr3)"
      ]
    },
    {
      "cell_type": "code",
      "execution_count": null,
      "metadata": {
        "colab": {
          "base_uri": "https://localhost:8080/"
        },
        "id": "WPL_6iYKF89N",
        "outputId": "e26371f2-8057-4f1c-f464-9390d5742de4"
      },
      "outputs": [
        {
          "output_type": "stream",
          "name": "stdout",
          "text": [
            "Digite a primeira palavra: Sinistro\n",
            "Digite a segunda palavra: mistério\n",
            "Digite a terceira palavra: onda\n",
            "Palavras em ordem alfabética:\n",
            "Sinistro\n",
            "mistério\n",
            "onda\n"
          ]
        }
      ],
      "source": [
        "#12\n",
        "string1 = input(\"Digite a primeira palavra: \")\n",
        "string2 = input(\"Digite a segunda palavra: \")\n",
        "string3 = input(\"Digite a terceira palavra: \")\n",
        "\n",
        "if string1 > string2:\n",
        "    string1, string2 = string2, string1\n",
        "if string1 > string3:\n",
        "    string1, string3 = string3, string1\n",
        "if string2 > string3:\n",
        "    string2, string3 = string3, string2\n",
        "\n",
        "print(\"Palavras em ordem alfabética:\")\n",
        "print(string1)\n",
        "print(string2)\n",
        "print(string3)\n"
      ]
    },
    {
      "cell_type": "code",
      "execution_count": null,
      "metadata": {
        "colab": {
          "base_uri": "https://localhost:8080/"
        },
        "id": "ICYBGt5eF89N",
        "outputId": "e1ce76cd-9825-46a2-c6f7-be1a290d9529"
      },
      "outputs": [
        {
          "output_type": "stream",
          "name": "stdout",
          "text": [
            "Você é homem ou mulher? homem\n",
            "Digite seu peso em kg: 60\n",
            "Digite sua altura em cm: 183\n",
            "Digite sua idade em anos: 19\n",
            "Sua Taxa de Metabolismo Basal (TMB) é aproximadamente 1678.20 calorias por dia.\n"
          ]
        }
      ],
      "source": [
        "#13\n",
        "\n",
        "sexo = input(\"Você é homem ou mulher? \")\n",
        "peso = float(input(\"Digite seu peso em kg: \"))\n",
        "altura = float(input(\"Digite sua altura em cm: \"))\n",
        "idade = int(input(\"Digite sua idade em anos: \"))\n",
        "\n",
        "if sexo == \"homem\":\n",
        "    tmb = 66 + (13.75 * peso) + (5.003 * altura) - (6.755 * idade)\n",
        "    print(f\"Sua Taxa de Metabolismo Basal (TMB) é aproximadamente {tmb:.2f} calorias por dia.\")\n",
        "elif sexo == \"mulher\":\n",
        "    tmb = 655.9 + (9.563 * peso) + (1.85 * altura) - (4.676 * idade)\n",
        "    print(f\"Sua Taxa de Metabolismo Basal (TMB) é aproximadamente {tmb:.2f} calorias por dia.\")\n",
        "else:\n",
        "    print(\"Sexo inválido. Digite 'homem' ou 'mulher'.\")\n",
        "\n"
      ]
    },
    {
      "cell_type": "code",
      "source": [
        "#14\n",
        "\n",
        "numero = int(input(\"Digite um número inteiro: \"))\n",
        "\n",
        "print(f\"Tabuada do {numero}:\\n\")\n",
        "print(f\"{numero} x 1 = {numero * 1}\")\n",
        "print(f\"{numero} x 2 = {numero * 2}\")\n",
        "print(f\"{numero} x 3 = {numero * 3}\")\n",
        "print(f\"{numero} x 4 = {numero * 4}\")\n",
        "print(f\"{numero} x 5 = {numero * 5}\")\n",
        "print(f\"{numero} x 6 = {numero * 6}\")\n",
        "print(f\"{numero} x 7 = {numero * 7}\")\n",
        "print(f\"{numero} x 8 = {numero * 8}\")\n",
        "print(f\"{numero} x 9 = {numero * 9}\")\n",
        "print(f\"{numero} x 10 = {numero * 10}\")"
      ],
      "metadata": {
        "colab": {
          "base_uri": "https://localhost:8080/"
        },
        "id": "LobhNbSmGMSK",
        "outputId": "33ea0e1e-0927-40a7-fdb4-f64dc339531c"
      },
      "execution_count": null,
      "outputs": [
        {
          "output_type": "stream",
          "name": "stdout",
          "text": [
            "Digite um número inteiro: 8\n",
            "Tabuada do 8:\n",
            "\n",
            "8 x 1 = 8\n",
            "8 x 2 = 16\n",
            "8 x 3 = 24\n",
            "8 x 4 = 32\n",
            "8 x 5 = 40\n",
            "8 x 6 = 48\n",
            "8 x 7 = 56\n",
            "8 x 8 = 64\n",
            "8 x 9 = 72\n",
            "8 x 10 = 80\n"
          ]
        }
      ]
    }
  ],
  "metadata": {
    "colab": {
      "provenance": []
    },
    "kernelspec": {
      "display_name": "Python 3",
      "name": "python3"
    },
    "language_info": {
      "codemirror_mode": {
        "name": "ipython",
        "version": 3
      },
      "file_extension": ".py",
      "mimetype": "text/x-python",
      "name": "python",
      "nbconvert_exporter": "python",
      "pygments_lexer": "ipython3",
      "version": "3.12.4"
    }
  },
  "nbformat": 4,
  "nbformat_minor": 0
}